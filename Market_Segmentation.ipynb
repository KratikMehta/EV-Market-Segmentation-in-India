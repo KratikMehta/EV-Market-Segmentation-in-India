{
 "cells": [
  {
   "cell_type": "code",
   "execution_count": 1,
   "metadata": {},
   "outputs": [
    {
     "name": "stderr",
     "output_type": "stream",
     "text": [
      "c:\\ProgramData\\anaconda3\\lib\\site-packages\\numba\\core\\decorators.py:262: NumbaDeprecationWarning: \u001b[1mnumba.generated_jit is deprecated. Please see the documentation at: https://numba.readthedocs.io/en/stable/reference/deprecation.html#deprecation-of-generated-jit for more information and advice on a suitable replacement.\u001b[0m\n",
      "  warnings.warn(msg, NumbaDeprecationWarning)\n",
      "c:\\ProgramData\\anaconda3\\lib\\site-packages\\visions\\backends\\shared\\nan_handling.py:51: NumbaDeprecationWarning: \u001b[1mThe 'nopython' keyword argument was not supplied to the 'numba.jit' decorator. The implicit default value for this argument is currently False, but it will be changed to True in Numba 0.59.0. See https://numba.readthedocs.io/en/stable/reference/deprecation.html#deprecation-of-object-mode-fall-back-behaviour-when-using-jit for details.\u001b[0m\n",
      "  def hasna(x: np.ndarray) -> bool:\n"
     ]
    }
   ],
   "source": [
    "import numpy as np\n",
    "import pandas as pd\n",
    "from ydata_profiling import ProfileReport"
   ]
  },
  {
   "cell_type": "code",
   "execution_count": 2,
   "metadata": {},
   "outputs": [
    {
     "data": {
      "text/html": [
       "<div>\n",
       "<style scoped>\n",
       "    .dataframe tbody tr th:only-of-type {\n",
       "        vertical-align: middle;\n",
       "    }\n",
       "\n",
       "    .dataframe tbody tr th {\n",
       "        vertical-align: top;\n",
       "    }\n",
       "\n",
       "    .dataframe thead th {\n",
       "        text-align: right;\n",
       "    }\n",
       "</style>\n",
       "<table border=\"1\" class=\"dataframe\">\n",
       "  <thead>\n",
       "    <tr style=\"text-align: right;\">\n",
       "      <th></th>\n",
       "      <th>name</th>\n",
       "      <th>state</th>\n",
       "      <th>city</th>\n",
       "      <th>address</th>\n",
       "      <th>lattitude</th>\n",
       "      <th>longitude</th>\n",
       "      <th>type</th>\n",
       "    </tr>\n",
       "  </thead>\n",
       "  <tbody>\n",
       "    <tr>\n",
       "      <th>0</th>\n",
       "      <td>Neelkanth Star DC Charging Station</td>\n",
       "      <td>Haryana</td>\n",
       "      <td>Gurugram</td>\n",
       "      <td>Neelkanth Star Karnal, NH 44, Gharunda, Kutail...</td>\n",
       "      <td>29.6019</td>\n",
       "      <td>76.9803</td>\n",
       "      <td>12.0</td>\n",
       "    </tr>\n",
       "    <tr>\n",
       "      <th>1</th>\n",
       "      <td>Galleria DC Charging Station</td>\n",
       "      <td>Haryana</td>\n",
       "      <td>Gurugram</td>\n",
       "      <td>DLF Phase IV, Sector 28, Gurugram, Haryana 122022</td>\n",
       "      <td>28.4673</td>\n",
       "      <td>77.0818</td>\n",
       "      <td>12.0</td>\n",
       "    </tr>\n",
       "    <tr>\n",
       "      <th>2</th>\n",
       "      <td>Highway Xpress (Jaipur-Delhi) DC charging station</td>\n",
       "      <td>Rajasthan</td>\n",
       "      <td>Behror</td>\n",
       "      <td>Jaipur to Delhi Road, Behror Midway, Behror, R...</td>\n",
       "      <td>27.8751</td>\n",
       "      <td>76.2760</td>\n",
       "      <td>12.0</td>\n",
       "    </tr>\n",
       "    <tr>\n",
       "      <th>3</th>\n",
       "      <td>Food Carnival DC Charging Station</td>\n",
       "      <td>Uttar Pradesh</td>\n",
       "      <td>Khatauli</td>\n",
       "      <td>Fun and Food Carnival, NH 58, Khatauli Bypass,...</td>\n",
       "      <td>29.3105</td>\n",
       "      <td>77.7218</td>\n",
       "      <td>12.0</td>\n",
       "    </tr>\n",
       "    <tr>\n",
       "      <th>4</th>\n",
       "      <td>Food Carnival AC Charging Station</td>\n",
       "      <td>Uttar Pradesh</td>\n",
       "      <td>Khatauli</td>\n",
       "      <td>NH 58, Khatauli Bypass, Bhainsi, Uttar Pradesh...</td>\n",
       "      <td>29.3105</td>\n",
       "      <td>77.7218</td>\n",
       "      <td>12.0</td>\n",
       "    </tr>\n",
       "  </tbody>\n",
       "</table>\n",
       "</div>"
      ],
      "text/plain": [
       "                                                name          state      city  \\\n",
       "0                 Neelkanth Star DC Charging Station        Haryana  Gurugram   \n",
       "1                       Galleria DC Charging Station        Haryana  Gurugram   \n",
       "2  Highway Xpress (Jaipur-Delhi) DC charging station      Rajasthan    Behror   \n",
       "3                  Food Carnival DC Charging Station  Uttar Pradesh  Khatauli   \n",
       "4                  Food Carnival AC Charging Station  Uttar Pradesh  Khatauli   \n",
       "\n",
       "                                             address lattitude  longitude  \\\n",
       "0  Neelkanth Star Karnal, NH 44, Gharunda, Kutail...   29.6019    76.9803   \n",
       "1  DLF Phase IV, Sector 28, Gurugram, Haryana 122022   28.4673    77.0818   \n",
       "2  Jaipur to Delhi Road, Behror Midway, Behror, R...   27.8751    76.2760   \n",
       "3  Fun and Food Carnival, NH 58, Khatauli Bypass,...   29.3105    77.7218   \n",
       "4  NH 58, Khatauli Bypass, Bhainsi, Uttar Pradesh...   29.3105    77.7218   \n",
       "\n",
       "   type  \n",
       "0  12.0  \n",
       "1  12.0  \n",
       "2  12.0  \n",
       "3  12.0  \n",
       "4  12.0  "
      ]
     },
     "execution_count": 2,
     "metadata": {},
     "output_type": "execute_result"
    }
   ],
   "source": [
    "# Reading the charging dataset\n",
    "charging_df = pd.read_csv(\"datasets/ev-charging-stations-india.csv\")\n",
    "charging_df.head()"
   ]
  },
  {
   "cell_type": "code",
   "execution_count": 3,
   "metadata": {},
   "outputs": [
    {
     "name": "stdout",
     "output_type": "stream",
     "text": [
      "<class 'pandas.core.frame.DataFrame'>\n",
      "RangeIndex: 1547 entries, 0 to 1546\n",
      "Data columns (total 7 columns):\n",
      " #   Column     Non-Null Count  Dtype  \n",
      "---  ------     --------------  -----  \n",
      " 0   name       1547 non-null   object \n",
      " 1   state      1547 non-null   object \n",
      " 2   city       1547 non-null   object \n",
      " 3   address    1507 non-null   object \n",
      " 4   lattitude  1541 non-null   object \n",
      " 5   longitude  1541 non-null   float64\n",
      " 6   type       1539 non-null   float64\n",
      "dtypes: float64(2), object(5)\n",
      "memory usage: 84.7+ KB\n"
     ]
    }
   ],
   "source": [
    "charging_df.info(show_counts=True)"
   ]
  },
  {
   "cell_type": "code",
   "execution_count": 4,
   "metadata": {},
   "outputs": [
    {
     "name": "stdout",
     "output_type": "stream",
     "text": [
      "Number of duplicate rows: 205\n"
     ]
    }
   ],
   "source": [
    "# Drop duplicate values\n",
    "print(f\"Number of duplicate rows: {charging_df.duplicated().sum()}\")\n",
    "charging_df.drop_duplicates(inplace=True)"
   ]
  },
  {
   "cell_type": "code",
   "execution_count": 5,
   "metadata": {},
   "outputs": [],
   "source": [
    "# Drop missing values\n",
    "charging_df.dropna(inplace=True)\n",
    "charging_df.reset_index(drop=True, inplace=True)"
   ]
  },
  {
   "cell_type": "code",
   "execution_count": 6,
   "metadata": {},
   "outputs": [],
   "source": [
    "# Changing the datatype of variables\n",
    "charging_df[\"lattitude\"] = charging_df[\"lattitude\"].str.replace(',', '').astype(float)\n",
    "charging_df[\"type\"] = charging_df[\"type\"].astype(int)\n",
    "charging_df[\"state\"] = pd.Categorical(charging_df[\"state\"])\n",
    "charging_df[\"city\"] = pd.Categorical(charging_df[\"city\"])"
   ]
  },
  {
   "cell_type": "code",
   "execution_count": 7,
   "metadata": {},
   "outputs": [],
   "source": [
    "# Creating a variable \"charging_speed\"\n",
    "def encode_type(type_value):\n",
    "    if type_value <= 11:\n",
    "        return \"slow\"\n",
    "    elif type_value <= 16:\n",
    "        return \"fast\"\n",
    "    else:\n",
    "        return \"ultra-fast\"\n",
    "\n",
    "charging_df[\"charging_speed\"] = charging_df[\"type\"].apply(encode_type)"
   ]
  },
  {
   "cell_type": "code",
   "execution_count": 9,
   "metadata": {},
   "outputs": [
    {
     "data": {
      "text/html": [
       "<div>\n",
       "<style scoped>\n",
       "    .dataframe tbody tr th:only-of-type {\n",
       "        vertical-align: middle;\n",
       "    }\n",
       "\n",
       "    .dataframe tbody tr th {\n",
       "        vertical-align: top;\n",
       "    }\n",
       "\n",
       "    .dataframe thead th {\n",
       "        text-align: right;\n",
       "    }\n",
       "</style>\n",
       "<table border=\"1\" class=\"dataframe\">\n",
       "  <thead>\n",
       "    <tr style=\"text-align: right;\">\n",
       "      <th></th>\n",
       "      <th>lattitude</th>\n",
       "      <th>longitude</th>\n",
       "      <th>type</th>\n",
       "    </tr>\n",
       "  </thead>\n",
       "  <tbody>\n",
       "    <tr>\n",
       "      <th>count</th>\n",
       "      <td>1291.000000</td>\n",
       "      <td>1.291000e+03</td>\n",
       "      <td>1291.000000</td>\n",
       "    </tr>\n",
       "    <tr>\n",
       "      <th>mean</th>\n",
       "      <td>19.907463</td>\n",
       "      <td>6.599958e+04</td>\n",
       "      <td>8.928737</td>\n",
       "    </tr>\n",
       "    <tr>\n",
       "      <th>std</th>\n",
       "      <td>6.932307</td>\n",
       "      <td>2.368613e+06</td>\n",
       "      <td>4.167747</td>\n",
       "    </tr>\n",
       "    <tr>\n",
       "      <th>min</th>\n",
       "      <td>8.390198</td>\n",
       "      <td>8.058454e+00</td>\n",
       "      <td>6.000000</td>\n",
       "    </tr>\n",
       "    <tr>\n",
       "      <th>25%</th>\n",
       "      <td>13.032111</td>\n",
       "      <td>7.578536e+01</td>\n",
       "      <td>7.000000</td>\n",
       "    </tr>\n",
       "    <tr>\n",
       "      <th>50%</th>\n",
       "      <td>19.051601</td>\n",
       "      <td>7.721756e+01</td>\n",
       "      <td>7.000000</td>\n",
       "    </tr>\n",
       "    <tr>\n",
       "      <th>75%</th>\n",
       "      <td>27.179942</td>\n",
       "      <td>7.846415e+01</td>\n",
       "      <td>10.000000</td>\n",
       "    </tr>\n",
       "    <tr>\n",
       "      <th>max</th>\n",
       "      <td>77.597289</td>\n",
       "      <td>8.510551e+07</td>\n",
       "      <td>24.000000</td>\n",
       "    </tr>\n",
       "  </tbody>\n",
       "</table>\n",
       "</div>"
      ],
      "text/plain": [
       "         lattitude     longitude         type\n",
       "count  1291.000000  1.291000e+03  1291.000000\n",
       "mean     19.907463  6.599958e+04     8.928737\n",
       "std       6.932307  2.368613e+06     4.167747\n",
       "min       8.390198  8.058454e+00     6.000000\n",
       "25%      13.032111  7.578536e+01     7.000000\n",
       "50%      19.051601  7.721756e+01     7.000000\n",
       "75%      27.179942  7.846415e+01    10.000000\n",
       "max      77.597289  8.510551e+07    24.000000"
      ]
     },
     "execution_count": 9,
     "metadata": {},
     "output_type": "execute_result"
    }
   ],
   "source": [
    "charging_df.describe()"
   ]
  },
  {
   "cell_type": "markdown",
   "metadata": {},
   "source": [
    "The maximum value for the `longitude` variable is 85105514 and minimum value is 8.0584541 which could be a mistake. Also the maximum value for the `lattitude` variable is 77.597289. As the longitude of India ranges from approximately 68 to 97, and lattitude ranges from 8 to 37, we will correct these values in the below cells."
   ]
  },
  {
   "cell_type": "code",
   "execution_count": 10,
   "metadata": {},
   "outputs": [],
   "source": [
    "# Correcting the maximum and minimum values of the longitude variable\n",
    "charging_df.iloc[charging_df.longitude.argmax(), 5] = charging_df.iloc[charging_df.longitude.argmax(), 5] / 10e5\n",
    "charging_df.iloc[charging_df.longitude.argmin(), 5] = charging_df.iloc[charging_df.longitude.argmin(), 5] * 10"
   ]
  },
  {
   "cell_type": "code",
   "execution_count": 11,
   "metadata": {},
   "outputs": [],
   "source": [
    "index = charging_df.lattitude.argmax()\n",
    "lat = charging_df.loc[charging_df.lattitude.argmax(), \"lattitude\"]\n",
    "\n",
    "# Swap the values of latitude and longitude for row 535\n",
    "charging_df.loc[index, \"lattitude\"] = charging_df.loc[index, \"longitude\"]\n",
    "charging_df.loc[index, \"longitude\"] = lat"
   ]
  },
  {
   "cell_type": "code",
   "execution_count": 12,
   "metadata": {},
   "outputs": [
    {
     "data": {
      "text/html": [
       "<div>\n",
       "<style scoped>\n",
       "    .dataframe tbody tr th:only-of-type {\n",
       "        vertical-align: middle;\n",
       "    }\n",
       "\n",
       "    .dataframe tbody tr th {\n",
       "        vertical-align: top;\n",
       "    }\n",
       "\n",
       "    .dataframe thead th {\n",
       "        text-align: right;\n",
       "    }\n",
       "</style>\n",
       "<table border=\"1\" class=\"dataframe\">\n",
       "  <thead>\n",
       "    <tr style=\"text-align: right;\">\n",
       "      <th></th>\n",
       "      <th>lattitude</th>\n",
       "      <th>longitude</th>\n",
       "      <th>type</th>\n",
       "    </tr>\n",
       "  </thead>\n",
       "  <tbody>\n",
       "    <tr>\n",
       "      <th>count</th>\n",
       "      <td>1291.000000</td>\n",
       "      <td>1291.000000</td>\n",
       "      <td>1291.000000</td>\n",
       "    </tr>\n",
       "    <tr>\n",
       "      <th>mean</th>\n",
       "      <td>19.857340</td>\n",
       "      <td>77.586028</td>\n",
       "      <td>8.928737</td>\n",
       "    </tr>\n",
       "    <tr>\n",
       "      <th>std</th>\n",
       "      <td>6.746304</td>\n",
       "      <td>3.663208</td>\n",
       "      <td>4.167747</td>\n",
       "    </tr>\n",
       "    <tr>\n",
       "      <th>min</th>\n",
       "      <td>8.390198</td>\n",
       "      <td>69.678673</td>\n",
       "      <td>6.000000</td>\n",
       "    </tr>\n",
       "    <tr>\n",
       "      <th>25%</th>\n",
       "      <td>13.031820</td>\n",
       "      <td>75.794858</td>\n",
       "      <td>7.000000</td>\n",
       "    </tr>\n",
       "    <tr>\n",
       "      <th>50%</th>\n",
       "      <td>19.051601</td>\n",
       "      <td>77.217962</td>\n",
       "      <td>7.000000</td>\n",
       "    </tr>\n",
       "    <tr>\n",
       "      <th>75%</th>\n",
       "      <td>27.094893</td>\n",
       "      <td>78.466949</td>\n",
       "      <td>10.000000</td>\n",
       "    </tr>\n",
       "    <tr>\n",
       "      <th>max</th>\n",
       "      <td>32.991800</td>\n",
       "      <td>94.168072</td>\n",
       "      <td>24.000000</td>\n",
       "    </tr>\n",
       "  </tbody>\n",
       "</table>\n",
       "</div>"
      ],
      "text/plain": [
       "         lattitude    longitude         type\n",
       "count  1291.000000  1291.000000  1291.000000\n",
       "mean     19.857340    77.586028     8.928737\n",
       "std       6.746304     3.663208     4.167747\n",
       "min       8.390198    69.678673     6.000000\n",
       "25%      13.031820    75.794858     7.000000\n",
       "50%      19.051601    77.217962     7.000000\n",
       "75%      27.094893    78.466949    10.000000\n",
       "max      32.991800    94.168072    24.000000"
      ]
     },
     "execution_count": 12,
     "metadata": {},
     "output_type": "execute_result"
    }
   ],
   "source": [
    "charging_df.describe()"
   ]
  },
  {
   "cell_type": "markdown",
   "metadata": {},
   "source": [
    "## Top 10 states with maximum charging stations"
   ]
  },
  {
   "cell_type": "code",
   "execution_count": 13,
   "metadata": {},
   "outputs": [
    {
     "data": {
      "text/html": [
       "<div>\n",
       "<style scoped>\n",
       "    .dataframe tbody tr th:only-of-type {\n",
       "        vertical-align: middle;\n",
       "    }\n",
       "\n",
       "    .dataframe tbody tr th {\n",
       "        vertical-align: top;\n",
       "    }\n",
       "\n",
       "    .dataframe thead th {\n",
       "        text-align: right;\n",
       "    }\n",
       "</style>\n",
       "<table border=\"1\" class=\"dataframe\">\n",
       "  <thead>\n",
       "    <tr style=\"text-align: right;\">\n",
       "      <th></th>\n",
       "      <th>name</th>\n",
       "      <th>state</th>\n",
       "      <th>city</th>\n",
       "      <th>address</th>\n",
       "      <th>lattitude</th>\n",
       "      <th>longitude</th>\n",
       "      <th>type</th>\n",
       "      <th>charging_speed</th>\n",
       "    </tr>\n",
       "  </thead>\n",
       "  <tbody>\n",
       "    <tr>\n",
       "      <th>0</th>\n",
       "      <td>Neelkanth Star DC Charging Station</td>\n",
       "      <td>Haryana</td>\n",
       "      <td>Gurugram</td>\n",
       "      <td>Neelkanth Star Karnal, NH 44, Gharunda, Kutail...</td>\n",
       "      <td>29.6019</td>\n",
       "      <td>76.9803</td>\n",
       "      <td>12</td>\n",
       "      <td>fast</td>\n",
       "    </tr>\n",
       "    <tr>\n",
       "      <th>1</th>\n",
       "      <td>Galleria DC Charging Station</td>\n",
       "      <td>Haryana</td>\n",
       "      <td>Gurugram</td>\n",
       "      <td>DLF Phase IV, Sector 28, Gurugram, Haryana 122022</td>\n",
       "      <td>28.4673</td>\n",
       "      <td>77.0818</td>\n",
       "      <td>12</td>\n",
       "      <td>fast</td>\n",
       "    </tr>\n",
       "    <tr>\n",
       "      <th>2</th>\n",
       "      <td>Highway Xpress (Jaipur-Delhi) DC charging station</td>\n",
       "      <td>Rajasthan</td>\n",
       "      <td>Behror</td>\n",
       "      <td>Jaipur to Delhi Road, Behror Midway, Behror, R...</td>\n",
       "      <td>27.8751</td>\n",
       "      <td>76.2760</td>\n",
       "      <td>12</td>\n",
       "      <td>fast</td>\n",
       "    </tr>\n",
       "    <tr>\n",
       "      <th>3</th>\n",
       "      <td>Food Carnival DC Charging Station</td>\n",
       "      <td>Uttar Pradesh</td>\n",
       "      <td>Khatauli</td>\n",
       "      <td>Fun and Food Carnival, NH 58, Khatauli Bypass,...</td>\n",
       "      <td>29.3105</td>\n",
       "      <td>77.7218</td>\n",
       "      <td>12</td>\n",
       "      <td>fast</td>\n",
       "    </tr>\n",
       "    <tr>\n",
       "      <th>4</th>\n",
       "      <td>Food Carnival AC Charging Station</td>\n",
       "      <td>Uttar Pradesh</td>\n",
       "      <td>Khatauli</td>\n",
       "      <td>NH 58, Khatauli Bypass, Bhainsi, Uttar Pradesh...</td>\n",
       "      <td>29.3105</td>\n",
       "      <td>77.7218</td>\n",
       "      <td>12</td>\n",
       "      <td>fast</td>\n",
       "    </tr>\n",
       "  </tbody>\n",
       "</table>\n",
       "</div>"
      ],
      "text/plain": [
       "                                                name          state      city  \\\n",
       "0                 Neelkanth Star DC Charging Station        Haryana  Gurugram   \n",
       "1                       Galleria DC Charging Station        Haryana  Gurugram   \n",
       "2  Highway Xpress (Jaipur-Delhi) DC charging station      Rajasthan    Behror   \n",
       "3                  Food Carnival DC Charging Station  Uttar Pradesh  Khatauli   \n",
       "4                  Food Carnival AC Charging Station  Uttar Pradesh  Khatauli   \n",
       "\n",
       "                                             address  lattitude  longitude  \\\n",
       "0  Neelkanth Star Karnal, NH 44, Gharunda, Kutail...    29.6019    76.9803   \n",
       "1  DLF Phase IV, Sector 28, Gurugram, Haryana 122022    28.4673    77.0818   \n",
       "2  Jaipur to Delhi Road, Behror Midway, Behror, R...    27.8751    76.2760   \n",
       "3  Fun and Food Carnival, NH 58, Khatauli Bypass,...    29.3105    77.7218   \n",
       "4  NH 58, Khatauli Bypass, Bhainsi, Uttar Pradesh...    29.3105    77.7218   \n",
       "\n",
       "   type charging_speed  \n",
       "0    12           fast  \n",
       "1    12           fast  \n",
       "2    12           fast  \n",
       "3    12           fast  \n",
       "4    12           fast  "
      ]
     },
     "execution_count": 13,
     "metadata": {},
     "output_type": "execute_result"
    }
   ],
   "source": [
    "charging_df.head()"
   ]
  },
  {
   "cell_type": "code",
   "execution_count": null,
   "metadata": {},
   "outputs": [],
   "source": []
  }
 ],
 "metadata": {
  "kernelspec": {
   "display_name": "Python 3",
   "language": "python",
   "name": "python3"
  },
  "language_info": {
   "codemirror_mode": {
    "name": "ipython",
    "version": 3
   },
   "file_extension": ".py",
   "mimetype": "text/x-python",
   "name": "python",
   "nbconvert_exporter": "python",
   "pygments_lexer": "ipython3",
   "version": "3.10.12"
  },
  "orig_nbformat": 4
 },
 "nbformat": 4,
 "nbformat_minor": 2
}
